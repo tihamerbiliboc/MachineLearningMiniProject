{
 "cells": [
  {
   "cell_type": "code",
   "execution_count": 2,
   "id": "d1ce0d8f",
   "metadata": {},
   "outputs": [],
   "source": [
    "import pandas as pd\n",
    "import numpy as np\n",
    "import matplotlib.pyplot as plt\n",
    "import seaborn as sns\n",
    "\n",
    "from sklearn.preprocessing import LabelEncoder\n",
    "from sklearn.preprocessing import MinMaxScaler\n",
    "from sklearn.ensemble import GradientBoostingClassifier\n",
    "from sklearn.preprocessing import StandardScaler\n",
    "from sklearn.model_selection import train_test_split\n",
    "from sklearn.metrics import accuracy_score, confusion_matrix\n",
    "from sklearn.ensemble import GradientBoostingClassifier\n",
    "from sklearn.model_selection import cross_val_score\n",
    "from sklearn.model_selection import GridSearchCV\n",
    "from sklearn.metrics import classification_report\n",
    "from collections import Counter\n",
    "from sklearn.compose import ColumnTransformer"
   ]
  },
  {
   "cell_type": "code",
   "execution_count": 3,
   "id": "0a49424d",
   "metadata": {},
   "outputs": [],
   "source": [
    "#Loading the csv dataset as a data frame\n",
    "data = pd.read_csv('adult.csv')"
   ]
  },
  {
   "cell_type": "code",
   "execution_count": 4,
   "id": "b5812643",
   "metadata": {
    "scrolled": true
   },
   "outputs": [
    {
     "data": {
      "text/html": [
       "<div>\n",
       "<style scoped>\n",
       "    .dataframe tbody tr th:only-of-type {\n",
       "        vertical-align: middle;\n",
       "    }\n",
       "\n",
       "    .dataframe tbody tr th {\n",
       "        vertical-align: top;\n",
       "    }\n",
       "\n",
       "    .dataframe thead th {\n",
       "        text-align: right;\n",
       "    }\n",
       "</style>\n",
       "<table border=\"1\" class=\"dataframe\">\n",
       "  <thead>\n",
       "    <tr style=\"text-align: right;\">\n",
       "      <th></th>\n",
       "      <th>age</th>\n",
       "      <th>workclass</th>\n",
       "      <th>fnlwgt</th>\n",
       "      <th>education</th>\n",
       "      <th>education.num</th>\n",
       "      <th>marital.status</th>\n",
       "      <th>occupation</th>\n",
       "      <th>relationship</th>\n",
       "      <th>race</th>\n",
       "      <th>sex</th>\n",
       "      <th>capital.gain</th>\n",
       "      <th>capital.loss</th>\n",
       "      <th>hours.per.week</th>\n",
       "      <th>native.country</th>\n",
       "      <th>income</th>\n",
       "    </tr>\n",
       "  </thead>\n",
       "  <tbody>\n",
       "    <tr>\n",
       "      <th>0</th>\n",
       "      <td>90</td>\n",
       "      <td>?</td>\n",
       "      <td>77053</td>\n",
       "      <td>HS-grad</td>\n",
       "      <td>9</td>\n",
       "      <td>Widowed</td>\n",
       "      <td>?</td>\n",
       "      <td>Not-in-family</td>\n",
       "      <td>White</td>\n",
       "      <td>Female</td>\n",
       "      <td>0</td>\n",
       "      <td>4356</td>\n",
       "      <td>40</td>\n",
       "      <td>United-States</td>\n",
       "      <td>&lt;=50K</td>\n",
       "    </tr>\n",
       "    <tr>\n",
       "      <th>1</th>\n",
       "      <td>82</td>\n",
       "      <td>Private</td>\n",
       "      <td>132870</td>\n",
       "      <td>HS-grad</td>\n",
       "      <td>9</td>\n",
       "      <td>Widowed</td>\n",
       "      <td>Exec-managerial</td>\n",
       "      <td>Not-in-family</td>\n",
       "      <td>White</td>\n",
       "      <td>Female</td>\n",
       "      <td>0</td>\n",
       "      <td>4356</td>\n",
       "      <td>18</td>\n",
       "      <td>United-States</td>\n",
       "      <td>&lt;=50K</td>\n",
       "    </tr>\n",
       "    <tr>\n",
       "      <th>2</th>\n",
       "      <td>66</td>\n",
       "      <td>?</td>\n",
       "      <td>186061</td>\n",
       "      <td>Some-college</td>\n",
       "      <td>10</td>\n",
       "      <td>Widowed</td>\n",
       "      <td>?</td>\n",
       "      <td>Unmarried</td>\n",
       "      <td>Black</td>\n",
       "      <td>Female</td>\n",
       "      <td>0</td>\n",
       "      <td>4356</td>\n",
       "      <td>40</td>\n",
       "      <td>United-States</td>\n",
       "      <td>&lt;=50K</td>\n",
       "    </tr>\n",
       "    <tr>\n",
       "      <th>3</th>\n",
       "      <td>54</td>\n",
       "      <td>Private</td>\n",
       "      <td>140359</td>\n",
       "      <td>7th-8th</td>\n",
       "      <td>4</td>\n",
       "      <td>Divorced</td>\n",
       "      <td>Machine-op-inspct</td>\n",
       "      <td>Unmarried</td>\n",
       "      <td>White</td>\n",
       "      <td>Female</td>\n",
       "      <td>0</td>\n",
       "      <td>3900</td>\n",
       "      <td>40</td>\n",
       "      <td>United-States</td>\n",
       "      <td>&lt;=50K</td>\n",
       "    </tr>\n",
       "    <tr>\n",
       "      <th>4</th>\n",
       "      <td>41</td>\n",
       "      <td>Private</td>\n",
       "      <td>264663</td>\n",
       "      <td>Some-college</td>\n",
       "      <td>10</td>\n",
       "      <td>Separated</td>\n",
       "      <td>Prof-specialty</td>\n",
       "      <td>Own-child</td>\n",
       "      <td>White</td>\n",
       "      <td>Female</td>\n",
       "      <td>0</td>\n",
       "      <td>3900</td>\n",
       "      <td>40</td>\n",
       "      <td>United-States</td>\n",
       "      <td>&lt;=50K</td>\n",
       "    </tr>\n",
       "  </tbody>\n",
       "</table>\n",
       "</div>"
      ],
      "text/plain": [
       "   age workclass  fnlwgt     education  education.num marital.status  \\\n",
       "0   90         ?   77053       HS-grad              9        Widowed   \n",
       "1   82   Private  132870       HS-grad              9        Widowed   \n",
       "2   66         ?  186061  Some-college             10        Widowed   \n",
       "3   54   Private  140359       7th-8th              4       Divorced   \n",
       "4   41   Private  264663  Some-college             10      Separated   \n",
       "\n",
       "          occupation   relationship   race     sex  capital.gain  \\\n",
       "0                  ?  Not-in-family  White  Female             0   \n",
       "1    Exec-managerial  Not-in-family  White  Female             0   \n",
       "2                  ?      Unmarried  Black  Female             0   \n",
       "3  Machine-op-inspct      Unmarried  White  Female             0   \n",
       "4     Prof-specialty      Own-child  White  Female             0   \n",
       "\n",
       "   capital.loss  hours.per.week native.country income  \n",
       "0          4356              40  United-States  <=50K  \n",
       "1          4356              18  United-States  <=50K  \n",
       "2          4356              40  United-States  <=50K  \n",
       "3          3900              40  United-States  <=50K  \n",
       "4          3900              40  United-States  <=50K  "
      ]
     },
     "execution_count": 4,
     "metadata": {},
     "output_type": "execute_result"
    }
   ],
   "source": [
    "data.head()"
   ]
  },
  {
   "cell_type": "code",
   "execution_count": 5,
   "id": "705d5b2d",
   "metadata": {},
   "outputs": [
    {
     "name": "stdout",
     "output_type": "stream",
     "text": [
      "(32561, 15)\n"
     ]
    }
   ],
   "source": [
    "#sumarizing the shape of the data frame (number of rows and columns)\n",
    "print(data.shape)"
   ]
  },
  {
   "cell_type": "code",
   "execution_count": 6,
   "id": "9568314c",
   "metadata": {},
   "outputs": [
    {
     "name": "stdout",
     "output_type": "stream",
     "text": [
      "<class 'pandas.core.frame.DataFrame'>\n",
      "RangeIndex: 32561 entries, 0 to 32560\n",
      "Data columns (total 15 columns):\n",
      " #   Column          Non-Null Count  Dtype \n",
      "---  ------          --------------  ----- \n",
      " 0   age             32561 non-null  int64 \n",
      " 1   workclass       32561 non-null  object\n",
      " 2   fnlwgt          32561 non-null  int64 \n",
      " 3   education       32561 non-null  object\n",
      " 4   education.num   32561 non-null  int64 \n",
      " 5   marital.status  32561 non-null  object\n",
      " 6   occupation      32561 non-null  object\n",
      " 7   relationship    32561 non-null  object\n",
      " 8   race            32561 non-null  object\n",
      " 9   sex             32561 non-null  object\n",
      " 10  capital.gain    32561 non-null  int64 \n",
      " 11  capital.loss    32561 non-null  int64 \n",
      " 12  hours.per.week  32561 non-null  int64 \n",
      " 13  native.country  32561 non-null  object\n",
      " 14  income          32561 non-null  object\n",
      "dtypes: int64(6), object(9)\n",
      "memory usage: 3.7+ MB\n"
     ]
    }
   ],
   "source": [
    "data.info()"
   ]
  },
  {
   "cell_type": "code",
   "execution_count": 7,
   "id": "ba7b3a62",
   "metadata": {},
   "outputs": [
    {
     "data": {
      "text/plain": [
       "Index(['age', 'workclass', 'fnlwgt', 'education', 'education.num',\n",
       "       'marital.status', 'occupation', 'relationship', 'race', 'sex',\n",
       "       'capital.gain', 'capital.loss', 'hours.per.week', 'native.country',\n",
       "       'income'],\n",
       "      dtype='object')"
      ]
     },
     "execution_count": 7,
     "metadata": {},
     "output_type": "execute_result"
    }
   ],
   "source": [
    "data.columns"
   ]
  },
  {
   "cell_type": "code",
   "execution_count": 8,
   "id": "2bf1bf8b",
   "metadata": {},
   "outputs": [
    {
     "data": {
      "text/plain": [
       "Index(['age', 'workclass', 'fnlwgt', 'education', 'education num', 'marital',\n",
       "       'occupation', 'relationship', 'race', 'sex', 'capital gain',\n",
       "       'capital loss', 'hours per week', 'country', 'income'],\n",
       "      dtype='object')"
      ]
     },
     "execution_count": 8,
     "metadata": {},
     "output_type": "execute_result"
    }
   ],
   "source": [
    "#replacing some special character columns names with proper names \n",
    "data.rename(columns={'education.num': 'education num', 'capital.gain': 'capital gain', 'capital.loss': 'capital loss', \n",
    "                   'native.country': 'country','hours.per.week': 'hours per week',\n",
    "                   'marital.status': 'marital'}, inplace=True)\n",
    "data.columns"
   ]
  },
  {
   "cell_type": "code",
   "execution_count": 9,
   "id": "0fa62088",
   "metadata": {},
   "outputs": [
    {
     "data": {
      "text/plain": [
       "age                  0\n",
       "workclass         1836\n",
       "fnlwgt               0\n",
       "education            0\n",
       "education num        0\n",
       "marital              0\n",
       "occupation        1843\n",
       "relationship         0\n",
       "race                 0\n",
       "sex                  0\n",
       "capital gain         0\n",
       "capital loss         0\n",
       "hours per week       0\n",
       "country            583\n",
       "income               0\n",
       "dtype: int64"
      ]
     },
     "execution_count": 9,
     "metadata": {},
     "output_type": "execute_result"
    }
   ],
   "source": [
    "#Looking for special characters in the data frame\n",
    "data.isin(['?']).sum(axis=0)"
   ]
  },
  {
   "cell_type": "code",
   "execution_count": 10,
   "id": "db0b52c4",
   "metadata": {},
   "outputs": [],
   "source": [
    "#replace special characters with nan and drop them\n",
    "data['country'] = data['country'].replace('?',np.nan)\n",
    "data['workclass'] = data['workclass'].replace('?',np.nan)\n",
    "data['occupation'] = data['occupation'].replace('?',np.nan)\n",
    "#dropping the NaN rows now \n",
    "data.dropna(how='any',inplace=True)"
   ]
  },
  {
   "cell_type": "code",
   "execution_count": 11,
   "id": "c19184c2",
   "metadata": {},
   "outputs": [
    {
     "data": {
      "text/plain": [
       "age               0\n",
       "workclass         0\n",
       "fnlwgt            0\n",
       "education         0\n",
       "education num     0\n",
       "marital           0\n",
       "occupation        0\n",
       "relationship      0\n",
       "race              0\n",
       "sex               0\n",
       "capital gain      0\n",
       "capital loss      0\n",
       "hours per week    0\n",
       "country           0\n",
       "income            0\n",
       "dtype: int64"
      ]
     },
     "execution_count": 11,
     "metadata": {},
     "output_type": "execute_result"
    }
   ],
   "source": [
    "#check for 0 values\n",
    "data.isnull().sum()"
   ]
  },
  {
   "cell_type": "code",
   "execution_count": 13,
   "id": "4aa372a2",
   "metadata": {},
   "outputs": [
    {
     "name": "stdout",
     "output_type": "stream",
     "text": [
      "There are 9 categorical variables\n",
      "\n",
      "The categorical variables are :\n",
      "\n",
      " ['workclass', 'education', 'marital', 'occupation', 'relationship', 'race', 'sex', 'country', 'income']\n"
     ]
    }
   ],
   "source": [
    "#checking for non-numerical columns\n",
    "categorical = [var for var in data.columns if data[var].dtype=='O']\n",
    "\n",
    "print('There are {} categorical variables\\n'.format(len(categorical)))\n",
    "\n",
    "print('The categorical variables are :\\n\\n', categorical)"
   ]
  },
  {
   "cell_type": "code",
   "execution_count": 14,
   "id": "7490440b",
   "metadata": {},
   "outputs": [
    {
     "name": "stdout",
     "output_type": "stream",
     "text": [
      "There are 6 numerical variables\n",
      "\n",
      "The numerical variables are :\n",
      "\n",
      " ['age', 'fnlwgt', 'education num', 'capital gain', 'capital loss', 'hours per week']\n"
     ]
    }
   ],
   "source": [
    "#checking for numerical columns\n",
    "numerical = [var_1 for var_1 in data.columns if data[var_1].dtype=='int64']\n",
    "\n",
    "print('There are {} numerical variables\\n'.format(len(numerical)))\n",
    "\n",
    "print('The numerical variables are :\\n\\n', numerical)"
   ]
  },
  {
   "cell_type": "code",
   "execution_count": 15,
   "id": "bfb9e936",
   "metadata": {},
   "outputs": [
    {
     "name": "stdout",
     "output_type": "stream",
     "text": [
      "---- age ---\n",
      "36    852\n",
      "31    851\n",
      "33    837\n",
      "34    836\n",
      "37    828\n",
      "     ... \n",
      "82      7\n",
      "83      5\n",
      "88      3\n",
      "85      3\n",
      "86      1\n",
      "Name: age, Length: 72, dtype: int64\n",
      "---- workclass ---\n",
      "Private             22286\n",
      "Self-emp-not-inc     2499\n",
      "Local-gov            2067\n",
      "State-gov            1279\n",
      "Self-emp-inc         1074\n",
      "Federal-gov           943\n",
      "Without-pay            14\n",
      "Name: workclass, dtype: int64\n",
      "---- fnlwgt ---\n",
      "203488    13\n",
      "121124    12\n",
      "148995    12\n",
      "123011    12\n",
      "113364    12\n",
      "          ..\n",
      "216479     1\n",
      "135480     1\n",
      "204160     1\n",
      "114650     1\n",
      "201490     1\n",
      "Name: fnlwgt, Length: 20263, dtype: int64\n",
      "---- education ---\n",
      "HS-grad         9840\n",
      "Some-college    6678\n",
      "Bachelors       5044\n",
      "Masters         1627\n",
      "Assoc-voc       1307\n",
      "11th            1048\n",
      "Assoc-acdm      1008\n",
      "10th             820\n",
      "7th-8th          557\n",
      "Prof-school      542\n",
      "9th              455\n",
      "12th             377\n",
      "Doctorate        375\n",
      "5th-6th          288\n",
      "1st-4th          151\n",
      "Preschool         45\n",
      "Name: education, dtype: int64\n",
      "---- education num ---\n",
      "9     9840\n",
      "10    6678\n",
      "13    5044\n",
      "14    1627\n",
      "11    1307\n",
      "7     1048\n",
      "12    1008\n",
      "6      820\n",
      "4      557\n",
      "15     542\n",
      "5      455\n",
      "8      377\n",
      "16     375\n",
      "3      288\n",
      "2      151\n",
      "1       45\n",
      "Name: education num, dtype: int64\n",
      "---- marital ---\n",
      "Married-civ-spouse       14065\n",
      "Never-married             9726\n",
      "Divorced                  4214\n",
      "Separated                  939\n",
      "Widowed                    827\n",
      "Married-spouse-absent      370\n",
      "Married-AF-spouse           21\n",
      "Name: marital, dtype: int64\n",
      "---- occupation ---\n",
      "Prof-specialty       4038\n",
      "Craft-repair         4030\n",
      "Exec-managerial      3992\n",
      "Adm-clerical         3721\n",
      "Sales                3584\n",
      "Other-service        3212\n",
      "Machine-op-inspct    1966\n",
      "Transport-moving     1572\n",
      "Handlers-cleaners    1350\n",
      "Farming-fishing       989\n",
      "Tech-support          912\n",
      "Protective-serv       644\n",
      "Priv-house-serv       143\n",
      "Armed-Forces            9\n",
      "Name: occupation, dtype: int64\n",
      "---- relationship ---\n",
      "Husband           12463\n",
      "Not-in-family      7726\n",
      "Own-child          4466\n",
      "Unmarried          3212\n",
      "Wife               1406\n",
      "Other-relative      889\n",
      "Name: relationship, dtype: int64\n",
      "---- race ---\n",
      "White                 25933\n",
      "Black                  2817\n",
      "Asian-Pac-Islander      895\n",
      "Amer-Indian-Eskimo      286\n",
      "Other                   231\n",
      "Name: race, dtype: int64\n",
      "---- sex ---\n",
      "Male      20380\n",
      "Female     9782\n",
      "Name: sex, dtype: int64\n",
      "---- capital gain ---\n",
      "0        27624\n",
      "15024      337\n",
      "7688       270\n",
      "7298       240\n",
      "99999      148\n",
      "         ...  \n",
      "7978         1\n",
      "5060         1\n",
      "2538         1\n",
      "401          1\n",
      "22040        1\n",
      "Name: capital gain, Length: 118, dtype: int64\n",
      "---- capital loss ---\n",
      "0       28735\n",
      "1902      194\n",
      "1977      162\n",
      "1887      155\n",
      "1848       50\n",
      "        ...  \n",
      "2201        1\n",
      "1944        1\n",
      "1411        1\n",
      "3004        1\n",
      "4356        1\n",
      "Name: capital loss, Length: 90, dtype: int64\n",
      "---- hours per week ---\n",
      "40    14251\n",
      "50     2718\n",
      "45     1753\n",
      "60     1405\n",
      "35     1184\n",
      "      ...  \n",
      "94        1\n",
      "82        1\n",
      "92        1\n",
      "87        1\n",
      "74        1\n",
      "Name: hours per week, Length: 94, dtype: int64\n",
      "---- country ---\n",
      "United-States                 27504\n",
      "Mexico                          610\n",
      "Philippines                     188\n",
      "Germany                         128\n",
      "Puerto-Rico                     109\n",
      "Canada                          107\n",
      "El-Salvador                     100\n",
      "India                           100\n",
      "Cuba                             92\n",
      "England                          86\n",
      "Jamaica                          80\n",
      "South                            71\n",
      "Italy                            68\n",
      "China                            68\n",
      "Dominican-Republic               67\n",
      "Vietnam                          64\n",
      "Guatemala                        63\n",
      "Japan                            59\n",
      "Poland                           56\n",
      "Columbia                         56\n",
      "Iran                             42\n",
      "Taiwan                           42\n",
      "Haiti                            42\n",
      "Portugal                         34\n",
      "Nicaragua                        33\n",
      "Peru                             30\n",
      "Greece                           29\n",
      "Ecuador                          27\n",
      "France                           27\n",
      "Ireland                          24\n",
      "Hong                             19\n",
      "Cambodia                         18\n",
      "Trinadad&Tobago                  18\n",
      "Thailand                         17\n",
      "Laos                             17\n",
      "Yugoslavia                       16\n",
      "Outlying-US(Guam-USVI-etc)       14\n",
      "Hungary                          13\n",
      "Honduras                         12\n",
      "Scotland                         11\n",
      "Holand-Netherlands                1\n",
      "Name: country, dtype: int64\n",
      "---- income ---\n",
      "<=50K    22654\n",
      ">50K      7508\n",
      "Name: income, dtype: int64\n"
     ]
    }
   ],
   "source": [
    "#Checking the unique values for each column\n",
    "for unique in data.columns:\n",
    "    print (\"---- %s ---\" % unique)\n",
    "    print (data[unique].value_counts())"
   ]
  },
  {
   "cell_type": "code",
   "execution_count": 16,
   "id": "f8162143",
   "metadata": {},
   "outputs": [],
   "source": [
    "#dropping irrelevant and noisy data\n",
    "data.drop(columns='fnlwgt',inplace=True)\n",
    "data.drop(columns='country',inplace=True)"
   ]
  },
  {
   "cell_type": "code",
   "execution_count": 17,
   "id": "a119ef1d",
   "metadata": {},
   "outputs": [],
   "source": [
    "#mapping our target attribute to numerical values\n",
    "data['income'] = data['income'].map({'<=50K': 0, '>50K': 1}).astype(int)"
   ]
  },
  {
   "cell_type": "code",
   "execution_count": 18,
   "id": "6a82a52a",
   "metadata": {},
   "outputs": [],
   "source": [
    "#mapping the rest of categorical data to numerical\n",
    "\n",
    "#workclass\n",
    "data['workclass'] = data['workclass'].map({'Private': 0, 'Self-emp-not-inc': 1,'Local-gov': 2, 'State-gov': 3,\n",
    "                                       'Self-emp-inc': 4,'Federal-gov': 5, 'Without-pay': 6}).astype(int)\n",
    "#gender\n",
    "data['sex'] = data['sex'].map({'Male': 0, 'Female': 1}).astype(int)\n",
    "\n",
    "#education\n",
    "data['education'] = data['education'].map({'HS-grad': 0, 'Some-college': 1, 'Bachelors': 2, 'Masters': 3,\n",
    "                                       'Assoc-voc': 4, '11th': 5, 'Assoc-acdm': 6, '10th': 7,'7th-8th': 8,\n",
    "                                       'Prof-school': 9, '9th': 10, '12th': 11,'Doctorate': 12, '5th-6th': 13,\n",
    "                                       '1st-4th': 14,'Preschool': 15}).astype(int)\n",
    "#marital\n",
    "data['marital'] = data['marital'].map({'Married-civ-spouse': 0, 'Never-married': 1, 'Divorced': 2,\n",
    "                                   'Separated': 3, 'Widowed': 4,'Married-spouse-absent': 5, 'Married-AF-spouse': 6}).astype(int)\n",
    "\n",
    "#occupation\n",
    "data['occupation'] = data['occupation'].map({ 'Prof-specialty': 1, 'Craft-repair': 2, 'Exec-managerial': 3, 'Adm-clerical': 4,\n",
    " 'Sales': 5,'Other-service': 6, 'Machine-op-inspct': 7,'Transport-moving': 8,'Handlers-cleaners': 9,'Farming-fishing': 10, \n",
    "                                         'Tech-support': 11, 'Protective-serv': 12, 'Priv-house-serv': 13,'Armed-Forces':14}).astype(int)\n",
    "\n",
    "#relationship\n",
    "data['relationship'] = data['relationship'].map({'Husband': 0, 'Not-in-family': 1, 'Own-child': 2, 'Unmarried': 3,'Wife': 4,'Other-relative': 5}).astype(int)\n",
    "\n",
    "#race\n",
    "data['race'] = data['race'].map({'Black': 0, 'Asian-Pac-Islander': 1,'Other': 2, 'White': 3, 'Amer-Indian-Eskimo': 4}).astype(int)\n"
   ]
  },
  {
   "cell_type": "code",
   "execution_count": 19,
   "id": "16e61754",
   "metadata": {},
   "outputs": [
    {
     "data": {
      "text/html": [
       "<div>\n",
       "<style scoped>\n",
       "    .dataframe tbody tr th:only-of-type {\n",
       "        vertical-align: middle;\n",
       "    }\n",
       "\n",
       "    .dataframe tbody tr th {\n",
       "        vertical-align: top;\n",
       "    }\n",
       "\n",
       "    .dataframe thead th {\n",
       "        text-align: right;\n",
       "    }\n",
       "</style>\n",
       "<table border=\"1\" class=\"dataframe\">\n",
       "  <thead>\n",
       "    <tr style=\"text-align: right;\">\n",
       "      <th></th>\n",
       "      <th>age</th>\n",
       "      <th>workclass</th>\n",
       "      <th>education</th>\n",
       "      <th>education num</th>\n",
       "      <th>marital</th>\n",
       "      <th>occupation</th>\n",
       "      <th>relationship</th>\n",
       "      <th>race</th>\n",
       "      <th>sex</th>\n",
       "      <th>capital gain</th>\n",
       "      <th>capital loss</th>\n",
       "      <th>hours per week</th>\n",
       "      <th>income</th>\n",
       "    </tr>\n",
       "  </thead>\n",
       "  <tbody>\n",
       "    <tr>\n",
       "      <th>1</th>\n",
       "      <td>82</td>\n",
       "      <td>0</td>\n",
       "      <td>0</td>\n",
       "      <td>9</td>\n",
       "      <td>4</td>\n",
       "      <td>3</td>\n",
       "      <td>1</td>\n",
       "      <td>3</td>\n",
       "      <td>1</td>\n",
       "      <td>0</td>\n",
       "      <td>4356</td>\n",
       "      <td>18</td>\n",
       "      <td>0</td>\n",
       "    </tr>\n",
       "    <tr>\n",
       "      <th>3</th>\n",
       "      <td>54</td>\n",
       "      <td>0</td>\n",
       "      <td>8</td>\n",
       "      <td>4</td>\n",
       "      <td>2</td>\n",
       "      <td>7</td>\n",
       "      <td>3</td>\n",
       "      <td>3</td>\n",
       "      <td>1</td>\n",
       "      <td>0</td>\n",
       "      <td>3900</td>\n",
       "      <td>40</td>\n",
       "      <td>0</td>\n",
       "    </tr>\n",
       "    <tr>\n",
       "      <th>4</th>\n",
       "      <td>41</td>\n",
       "      <td>0</td>\n",
       "      <td>1</td>\n",
       "      <td>10</td>\n",
       "      <td>3</td>\n",
       "      <td>1</td>\n",
       "      <td>2</td>\n",
       "      <td>3</td>\n",
       "      <td>1</td>\n",
       "      <td>0</td>\n",
       "      <td>3900</td>\n",
       "      <td>40</td>\n",
       "      <td>0</td>\n",
       "    </tr>\n",
       "    <tr>\n",
       "      <th>5</th>\n",
       "      <td>34</td>\n",
       "      <td>0</td>\n",
       "      <td>0</td>\n",
       "      <td>9</td>\n",
       "      <td>2</td>\n",
       "      <td>6</td>\n",
       "      <td>3</td>\n",
       "      <td>3</td>\n",
       "      <td>1</td>\n",
       "      <td>0</td>\n",
       "      <td>3770</td>\n",
       "      <td>45</td>\n",
       "      <td>0</td>\n",
       "    </tr>\n",
       "    <tr>\n",
       "      <th>6</th>\n",
       "      <td>38</td>\n",
       "      <td>0</td>\n",
       "      <td>7</td>\n",
       "      <td>6</td>\n",
       "      <td>3</td>\n",
       "      <td>4</td>\n",
       "      <td>3</td>\n",
       "      <td>3</td>\n",
       "      <td>0</td>\n",
       "      <td>0</td>\n",
       "      <td>3770</td>\n",
       "      <td>40</td>\n",
       "      <td>0</td>\n",
       "    </tr>\n",
       "  </tbody>\n",
       "</table>\n",
       "</div>"
      ],
      "text/plain": [
       "   age  workclass  education  education num  marital  occupation  \\\n",
       "1   82          0          0              9        4           3   \n",
       "3   54          0          8              4        2           7   \n",
       "4   41          0          1             10        3           1   \n",
       "5   34          0          0              9        2           6   \n",
       "6   38          0          7              6        3           4   \n",
       "\n",
       "   relationship  race  sex  capital gain  capital loss  hours per week  income  \n",
       "1             1     3    1             0          4356              18       0  \n",
       "3             3     3    1             0          3900              40       0  \n",
       "4             2     3    1             0          3900              40       0  \n",
       "5             3     3    1             0          3770              45       0  \n",
       "6             3     3    0             0          3770              40       0  "
      ]
     },
     "execution_count": 19,
     "metadata": {},
     "output_type": "execute_result"
    }
   ],
   "source": [
    "#check result\n",
    "data.head()"
   ]
  },
  {
   "cell_type": "code",
   "execution_count": 20,
   "id": "264d9660",
   "metadata": {},
   "outputs": [
    {
     "data": {
      "image/png": "[encoded data removed]",
      "text/plain": [
       "<Figure size 1440x1080 with 16 Axes>"
      ]
     },
     "metadata": {
      "needs_background": "light"
     },
     "output_type": "display_data"
    }
   ],
   "source": [
    "%matplotlib inline\n",
    "data.hist(bins=50, figsize=(20,15))\n",
    "plt.show()"
   ]
  },
  {
   "cell_type": "code",
   "execution_count": 22,
   "id": "1e187bfc",
   "metadata": {},
   "outputs": [
    {
     "data": {
      "image/png": "[encoded data removed]",
      "text/plain": [
       "<Figure size 720x288 with 1 Axes>"
      ]
     },
     "metadata": {
      "needs_background": "light"
     },
     "output_type": "display_data"
    }
   ],
   "source": [
    "#There are some visible outliers in capital gain and capital loss - taking a closer look\n",
    "plt.figure(figsize=(10,4))\n",
    "plt.title('The boxplot for the capital gain and capital loss columns')\n",
    "sns.boxplot( data=data[['capital gain','capital loss']], orient='h')\n",
    "plt.ylabel('The number of entries')\n",
    "plt.xlabel('Capital in $')\n",
    "plt.show()"
   ]
  },
  {
   "cell_type": "code",
   "execution_count": 23,
   "id": "c80d845b",
   "metadata": {},
   "outputs": [],
   "source": [
    "#dropping outliers\n",
    "abc = data.loc[data['capital gain']>30000,'capital gain'].index\n",
    "data.drop(index=abc,inplace=True)\n",
    "temp_3 = data.loc[data['capital loss']>1500,'capital loss'].index\n",
    "data.drop(index=temp_3,inplace=True)"
   ]
  },
  {
   "cell_type": "code",
   "execution_count": 24,
   "id": "ffa2e511",
   "metadata": {},
   "outputs": [
    {
     "data": {
      "image/png": "[encoded data removed]",
      "text/plain": [
       "<Figure size 720x288 with 1 Axes>"
      ]
     },
     "metadata": {
      "needs_background": "light"
     },
     "output_type": "display_data"
    }
   ],
   "source": [
    "#plotting after outlier drop\n",
    "plt.figure(figsize=(10,4))\n",
    "plt.title('The boxplot for the capital gain and capital loss columns')\n",
    "sns.boxplot( data=data[['capital gain','capital loss']], orient='h')\n",
    "plt.ylabel('The number of entries')\n",
    "plt.xlabel('Capital in $')\n",
    "plt.show()"
   ]
  },
  {
   "cell_type": "code",
   "execution_count": 29,
   "id": "70c30d07",
   "metadata": {},
   "outputs": [],
   "source": [
    "#scaling variables\n",
    "scaler = MinMaxScaler()\n",
    "scaler.fit(data.drop('income',axis=1))\n",
    "scaled_features = scaler.transform(data.drop('income',axis=1))"
   ]
  },
  {
   "cell_type": "code",
   "execution_count": 26,
   "id": "3035ea04",
   "metadata": {},
   "outputs": [
    {
     "data": {
      "text/plain": [
       "Index(['age', 'workclass', 'education', 'education num', 'marital',\n",
       "       'occupation', 'relationship', 'race', 'sex', 'capital gain',\n",
       "       'capital loss', 'hours per week', 'income'],\n",
       "      dtype='object')"
      ]
     },
     "execution_count": 26,
     "metadata": {},
     "output_type": "execute_result"
    }
   ],
   "source": [
    "data.columns"
   ]
  },
  {
   "cell_type": "code",
   "execution_count": 27,
   "id": "1cc6a892",
   "metadata": {},
   "outputs": [],
   "source": [
    "columns=['age', 'workclass', 'education', 'education num', 'marital',\n",
    "       'occupation', 'relationship', 'race', 'sex', 'capital gain',\n",
    "       'capital loss', 'hours per week']"
   ]
  },
  {
   "cell_type": "code",
   "execution_count": 28,
   "id": "f1402fd4",
   "metadata": {},
   "outputs": [
    {
     "data": {
      "text/html": [
       "<div>\n",
       "<style scoped>\n",
       "    .dataframe tbody tr th:only-of-type {\n",
       "        vertical-align: middle;\n",
       "    }\n",
       "\n",
       "    .dataframe tbody tr th {\n",
       "        vertical-align: top;\n",
       "    }\n",
       "\n",
       "    .dataframe thead th {\n",
       "        text-align: right;\n",
       "    }\n",
       "</style>\n",
       "<table border=\"1\" class=\"dataframe\">\n",
       "  <thead>\n",
       "    <tr style=\"text-align: right;\">\n",
       "      <th></th>\n",
       "      <th>age</th>\n",
       "      <th>workclass</th>\n",
       "      <th>education</th>\n",
       "      <th>education num</th>\n",
       "      <th>marital</th>\n",
       "      <th>occupation</th>\n",
       "      <th>relationship</th>\n",
       "      <th>race</th>\n",
       "      <th>sex</th>\n",
       "      <th>capital gain</th>\n",
       "      <th>capital loss</th>\n",
       "      <th>hours per week</th>\n",
       "    </tr>\n",
       "  </thead>\n",
       "  <tbody>\n",
       "    <tr>\n",
       "      <th>0</th>\n",
       "      <td>0.356164</td>\n",
       "      <td>0.000000</td>\n",
       "      <td>0.066667</td>\n",
       "      <td>0.600000</td>\n",
       "      <td>0.0</td>\n",
       "      <td>0.076923</td>\n",
       "      <td>0.0</td>\n",
       "      <td>0.75</td>\n",
       "      <td>0.0</td>\n",
       "      <td>0.0</td>\n",
       "      <td>1.0</td>\n",
       "      <td>0.500000</td>\n",
       "    </tr>\n",
       "    <tr>\n",
       "      <th>1</th>\n",
       "      <td>0.205479</td>\n",
       "      <td>0.000000</td>\n",
       "      <td>0.400000</td>\n",
       "      <td>0.733333</td>\n",
       "      <td>0.0</td>\n",
       "      <td>0.153846</td>\n",
       "      <td>0.8</td>\n",
       "      <td>0.75</td>\n",
       "      <td>1.0</td>\n",
       "      <td>0.0</td>\n",
       "      <td>1.0</td>\n",
       "      <td>0.397959</td>\n",
       "    </tr>\n",
       "    <tr>\n",
       "      <th>2</th>\n",
       "      <td>0.438356</td>\n",
       "      <td>0.000000</td>\n",
       "      <td>0.066667</td>\n",
       "      <td>0.600000</td>\n",
       "      <td>0.0</td>\n",
       "      <td>0.076923</td>\n",
       "      <td>0.0</td>\n",
       "      <td>0.75</td>\n",
       "      <td>0.0</td>\n",
       "      <td>0.0</td>\n",
       "      <td>1.0</td>\n",
       "      <td>0.397959</td>\n",
       "    </tr>\n",
       "    <tr>\n",
       "      <th>3</th>\n",
       "      <td>0.328767</td>\n",
       "      <td>0.333333</td>\n",
       "      <td>0.066667</td>\n",
       "      <td>0.600000</td>\n",
       "      <td>0.0</td>\n",
       "      <td>0.384615</td>\n",
       "      <td>0.0</td>\n",
       "      <td>0.75</td>\n",
       "      <td>0.0</td>\n",
       "      <td>0.0</td>\n",
       "      <td>1.0</td>\n",
       "      <td>0.397959</td>\n",
       "    </tr>\n",
       "    <tr>\n",
       "      <th>4</th>\n",
       "      <td>0.205479</td>\n",
       "      <td>0.000000</td>\n",
       "      <td>0.000000</td>\n",
       "      <td>0.533333</td>\n",
       "      <td>0.0</td>\n",
       "      <td>0.000000</td>\n",
       "      <td>0.0</td>\n",
       "      <td>0.75</td>\n",
       "      <td>0.0</td>\n",
       "      <td>0.0</td>\n",
       "      <td>1.0</td>\n",
       "      <td>0.479592</td>\n",
       "    </tr>\n",
       "  </tbody>\n",
       "</table>\n",
       "</div>"
      ],
      "text/plain": [
       "        age  workclass  education  education num  marital  occupation  \\\n",
       "0  0.356164   0.000000   0.066667       0.600000      0.0    0.076923   \n",
       "1  0.205479   0.000000   0.400000       0.733333      0.0    0.153846   \n",
       "2  0.438356   0.000000   0.066667       0.600000      0.0    0.076923   \n",
       "3  0.328767   0.333333   0.066667       0.600000      0.0    0.384615   \n",
       "4  0.205479   0.000000   0.000000       0.533333      0.0    0.000000   \n",
       "\n",
       "   relationship  race  sex  capital gain  capital loss  hours per week  \n",
       "0           0.0  0.75  0.0           0.0           1.0        0.500000  \n",
       "1           0.8  0.75  1.0           0.0           1.0        0.397959  \n",
       "2           0.0  0.75  0.0           0.0           1.0        0.397959  \n",
       "3           0.0  0.75  0.0           0.0           1.0        0.397959  \n",
       "4           0.0  0.75  0.0           0.0           1.0        0.479592  "
      ]
     },
     "execution_count": 28,
     "metadata": {},
     "output_type": "execute_result"
    }
   ],
   "source": [
    "data_scaled = pd.DataFrame(scaled_features,columns=columns)\n",
    "data_scaled.head()"
   ]
  },
  {
   "cell_type": "code",
   "execution_count": 30,
   "id": "14b8550e",
   "metadata": {},
   "outputs": [],
   "source": [
    "X = data_scaled\n",
    "y = data.income"
   ]
  },
  {
   "cell_type": "code",
   "execution_count": 31,
   "id": "0d68732d",
   "metadata": {},
   "outputs": [
    {
     "data": {
      "image/png": "[encoded data removed]",
      "text/plain": [
       "<Figure size 1296x576 with 2 Axes>"
      ]
     },
     "metadata": {
      "needs_background": "light"
     },
     "output_type": "display_data"
    }
   ],
   "source": [
    "#Checking the distribution\n",
    "f,ax=plt.subplots(1,2,figsize=(18,8))\n",
    "\n",
    "ax[0] = data['income'].value_counts().plot.pie(explode=[0,0],autopct='%1.1f%%',ax=ax[0],shadow=True)\n",
    "ax[0].set_title('Income Share')\n",
    "\n",
    "\n",
    "ax[1] = sns.countplot(x=\"income\", data=data, palette=\"Set1\")\n",
    "ax[1].set_title(\"Frequency distribution of income variable\")\n",
    "\n",
    "plt.show()"
   ]
  },
  {
   "cell_type": "code",
   "execution_count": 32,
   "id": "f79c0d8e",
   "metadata": {},
   "outputs": [],
   "source": [
    "from imblearn.combine import SMOTETomek\n",
    "from imblearn.under_sampling import NearMiss"
   ]
  },
  {
   "cell_type": "code",
   "execution_count": null,
   "id": "f9bfe766",
   "metadata": {},
   "outputs": [],
   "source": [
    "#Implementing oversampling for the minority class"
   ]
  },
  {
   "cell_type": "code",
   "execution_count": 33,
   "id": "9f7e81b0",
   "metadata": {},
   "outputs": [],
   "source": [
    "smk = SMOTETomek(random_state=42)\n",
    "X_res,y_res=smk.fit_resample(X,y)"
   ]
  },
  {
   "cell_type": "code",
   "execution_count": 34,
   "id": "07b6ca7c",
   "metadata": {},
   "outputs": [
    {
     "data": {
      "text/plain": [
       "((43046, 12), (43046,))"
      ]
     },
     "execution_count": 34,
     "metadata": {},
     "output_type": "execute_result"
    }
   ],
   "source": [
    "X_res.shape,y_res.shape"
   ]
  },
  {
   "cell_type": "code",
   "execution_count": 35,
   "id": "250e7c8c",
   "metadata": {},
   "outputs": [
    {
     "name": "stdout",
     "output_type": "stream",
     "text": [
      "Original dataset shape Counter({0: 22054, 1: 6653})\n",
      "Resampled dataset shape Counter({0: 21523, 1: 21523})\n"
     ]
    }
   ],
   "source": [
    "from collections import Counter\n",
    "print('Original dataset shape {}'.format(Counter(y)))\n",
    "print('Resampled dataset shape {}'.format(Counter(y_res)))"
   ]
  },
  {
   "cell_type": "code",
   "execution_count": 36,
   "id": "c46f9a09",
   "metadata": {},
   "outputs": [],
   "source": [
    "#splitting data into train and test - 80/20\n",
    "X_train, X_test, y_train, y_test = train_test_split(X_res,y_res,test_size=0.20,random_state=101,shuffle=True)"
   ]
  },
  {
   "cell_type": "code",
   "execution_count": 37,
   "id": "9968009d",
   "metadata": {},
   "outputs": [
    {
     "data": {
      "text/plain": [
       "GradientBoostingClassifier(learning_rate=0.01, max_features=5, random_state=100)"
      ]
     },
     "execution_count": 37,
     "metadata": {},
     "output_type": "execute_result"
    }
   ],
   "source": [
    "\n",
    "gbc=GradientBoostingClassifier(n_estimators=100,learning_rate=0.01,random_state=100,max_features=5 )\n",
    "\n",
    "gbc.fit(X_train,y_train)"
   ]
  },
  {
   "cell_type": "code",
   "execution_count": null,
   "id": "994f7cd1",
   "metadata": {},
   "outputs": [],
   "source": [
    "#Correct and incorrect classifications\n",
    "print(confusion_matrix(y_test, gbc.predict(X_test)))"
   ]
  },
  {
   "cell_type": "code",
   "execution_count": null,
   "id": "6b221e03",
   "metadata": {},
   "outputs": [],
   "source": [
    "#Check model accuracy\n",
    "print(\"GBC accuracy is %2.2f\" % accuracy_score( \n",
    "     y_test, gbc.predict(X_test)))"
   ]
  },
  {
   "cell_type": "code",
   "execution_count": null,
   "id": "0be0b7c9",
   "metadata": {},
   "outputs": [],
   "source": [
    "pred=gbc.predict(X_test)\n",
    "\n",
    "print(classification_report(y_test, pred))"
   ]
  },
  {
   "cell_type": "code",
   "execution_count": null,
   "id": "7441425d",
   "metadata": {},
   "outputs": [],
   "source": [
    "# #learning rate\n",
    "\n",
    "# grid = {'learning_rate':[1, 0.5, 0.25, 0.1, 0.05, 0.01]}\n",
    "# gb = GradientBoostingClassifier(n_estimators=100)\n",
    "# gb_cv = GridSearchCV(gb, grid, cv = 5)\n",
    "# gb_cv.fit(X_train,y_train)\n",
    "\n",
    "# print(\"Best Parameters:\",gb_cv.best_params_)\n",
    "\n",
    "# print(\"Train Score:\",gb_cv.best_score_)\n",
    "\n",
    "# print(\"Test Score:\",gb_cv.score(X_test,y_test))\n"
   ]
  },
  {
   "cell_type": "code",
   "execution_count": null,
   "id": "10e5140a",
   "metadata": {},
   "outputs": [],
   "source": [
    "# #estimators\n",
    "\n",
    "# grid = {'n_estimators':[1, 2, 4, 8, 16, 32, 64, 100, 200]}\n",
    "# gb = GradientBoostingClassifier(learning_rate = 1)\n",
    "# gb_cv = GridSearchCV(gb, grid, cv = 5)\n",
    "# gb_cv.fit(X_train,y_train)\n",
    "\n",
    "# print(\"Best Parameters:\",gb_cv.best_params_)\n",
    "\n",
    "# print(\"Train Score:\",gb_cv.best_score_)\n",
    "\n",
    "# print(\"Test Score:\",gb_cv.score(X_test,y_test))"
   ]
  },
  {
   "cell_type": "code",
   "execution_count": null,
   "id": "938de433",
   "metadata": {},
   "outputs": [],
   "source": [
    "# #subsample\n",
    "# grid = {'subsample':[0.5, 0.618, 0.8, 0.85, 0.9, 0.95, 1.0]}\n",
    "# gb = GradientBoostingClassifier(learning_rate=1,n_estimators=200)\n",
    "# gb_cv = GridSearchCV(gb, grid, cv = 5)\n",
    "# gb_cv.fit(X_train,y_train)\n",
    "\n",
    "# print(\"Best Parameters:\",gb_cv.best_params_)\n",
    "\n",
    "# print(\"Train Score:\",gb_cv.best_score_)\n",
    "\n",
    "# print(\"Test Score:\",gb_cv.score(X_test,y_test))"
   ]
  },
  {
   "cell_type": "code",
   "execution_count": null,
   "id": "a60a79fa",
   "metadata": {},
   "outputs": [],
   "source": [
    "# # # min_samples_split, min_samples_leaf\n",
    "# grid = {'min_samples_split':[2,4,6,8,10,20,50,100,500], 'min_samples_leaf':[10,20,30,40,50]}\n",
    "\n",
    "# gb = GradientBoostingClassifier(learning_rate=1, n_estimators=200)\n",
    "\n",
    "# gb_cv = GridSearchCV(gb, grid, cv = 5)\n",
    "\n",
    "# gb_cv.fit(X_train,y_train)\n",
    "\n",
    "# print(\"Best Parameters:\",gb_cv.best_params_)\n",
    "\n",
    "# print(\"Train Score:\",gb_cv.best_score_)\n",
    "\n",
    "# print(\"Test Score:\",gb_cv.score(X_test,y_test))"
   ]
  },
  {
   "cell_type": "code",
   "execution_count": null,
   "id": "e403e157",
   "metadata": {},
   "outputs": [],
   "source": [
    "#tune max depth\n",
    "grid = {'max_depth':[2,3,4,5,6,7,8]}\n",
    "\n",
    "gb = GradientBoostingClassifier(learning_rate=0.2, n_estimators=200)\n",
    "\n",
    "gb_cv = GridSearchCV(gb, grid, cv = 5)\n",
    "\n",
    "gb_cv.fit(X_train,y_train)\n",
    "\n",
    "print(\"Best Parameters:\",gb_cv.best_params_)\n",
    "\n",
    "print(\"Train Score:\",gb_cv.best_score_)\n",
    "\n",
    "print(\"Test Score:\",gb_cv.score(X_test,y_test))"
   ]
  },
  {
   "cell_type": "code",
   "execution_count": null,
   "id": "0fca917c",
   "metadata": {},
   "outputs": [],
   "source": []
  }
 ],
 "metadata": {
  "kernelspec": {
   "display_name": "Python 3 (ipykernel)",
   "language": "python",
   "name": "python3"
  },
  "language_info": {
   "codemirror_mode": {
    "name": "ipython",
    "version": 3
   },
   "file_extension": ".py",
   "mimetype": "text/x-python",
   "name": "python",
   "nbconvert_exporter": "python",
   "pygments_lexer": "ipython3",
   "version": "3.10.2"
  }
 },
 "nbformat": 4,
 "nbformat_minor": 5
}
